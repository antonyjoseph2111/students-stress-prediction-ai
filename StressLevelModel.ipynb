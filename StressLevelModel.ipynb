{
  "cells": [
    {
      "cell_type": "markdown",
      "source": [
        "# **Machine Learning Model For Analyze Stress Level In Students**"
      ],
      "metadata": {
        "id": "yu51ndAmUle3"
      }
    },
    {
      "cell_type": "markdown",
      "source": [
        "**An AI-powered stress classification tool that analyzes student lifestyle, emotional, physical, academic, and social factors to predict stress types and provide useful recommendations**\n",
        "\n",
        "**Dataset:https://www.kaggle.com/datasets/mdsultanulislamovi/student-stress-monitoring-datasets**\n",
        "\n",
        "**Purpose: Predict stress type (Eustress / Distress / No Stress) based on student data.**\n",
        "\n",
        "**Usage: This model can be deployed in web/mobile apps for stress monitoring.**"
      ],
      "metadata": {
        "id": "RpHuhVHSVkz1"
      }
    },
    {
      "cell_type": "markdown",
      "source": [
        "1)Importing Modules"
      ],
      "metadata": {
        "id": "gJm0L3TdV4i-"
      }
    },
    {
      "cell_type": "code",
      "source": [
        "import pandas as pd\n",
        "import numpy as np\n",
        "import tensorflow as tf\n",
        "from sklearn.model_selection import train_test_split\n",
        "from sklearn.preprocessing import LabelEncoder, StandardScaler"
      ],
      "metadata": {
        "id": "shMcBwSTV_Rp"
      },
      "execution_count": null,
      "outputs": []
    },
    {
      "cell_type": "markdown",
      "source": [
        "2)Load Dataset"
      ],
      "metadata": {
        "id": "uLOc_2_5WET-"
      }
    },
    {
      "cell_type": "code",
      "source": [
        "df = pd.read_csv(\"StressLevelDataset.csv\")"
      ],
      "metadata": {
        "id": "nV3Cvff0WM8_"
      },
      "execution_count": null,
      "outputs": []
    },
    {
      "cell_type": "markdown",
      "source": [
        "3)Encode Categorical Data"
      ],
      "metadata": {
        "id": "1UR18TsuWQpq"
      }
    },
    {
      "cell_type": "code",
      "source": [
        "df[\"stress_level\"] = LabelEncoder().fit_transform(df[\"stress_level\"])"
      ],
      "metadata": {
        "id": "B6QLuQzzWoWp"
      },
      "execution_count": null,
      "outputs": []
    },
    {
      "cell_type": "markdown",
      "source": [
        "4)Features & Target"
      ],
      "metadata": {
        "id": "M_3NEHiYWpjf"
      }
    },
    {
      "cell_type": "code",
      "source": [
        "X = df.drop(\"stress_level\", axis=1)\n",
        "y = df[\"stress_level\"]"
      ],
      "metadata": {
        "id": "wtj67O8kWt21"
      },
      "execution_count": null,
      "outputs": []
    },
    {
      "cell_type": "markdown",
      "source": [
        "5)Scale numeric features"
      ],
      "metadata": {
        "id": "fLdd8QIFW2De"
      }
    },
    {
      "cell_type": "code",
      "source": [
        "scaler = StandardScaler()\n",
        "X = scaler.fit_transform(X)"
      ],
      "metadata": {
        "id": "QAmuMIzcXGgX"
      },
      "execution_count": null,
      "outputs": []
    },
    {
      "cell_type": "markdown",
      "source": [
        "6)Creating train and test dataset"
      ],
      "metadata": {
        "id": "U2xRtqvQXKs0"
      }
    },
    {
      "cell_type": "code",
      "source": [
        "X_train, X_test, y_train, y_test = train_test_split(X,\n",
        "                                                    y,\n",
        "                                                    test_size=0.2,\n",
        "                                                    random_state=42,\n",
        "                                                    stratify=y)"
      ],
      "metadata": {
        "id": "wwL1BOPrXSR5"
      },
      "execution_count": null,
      "outputs": []
    },
    {
      "cell_type": "markdown",
      "source": [
        "7)Create Model"
      ],
      "metadata": {
        "id": "QWvzVPUjXtRZ"
      }
    },
    {
      "cell_type": "code",
      "source": [
        "model = tf.keras.Sequential([\n",
        "    tf.keras.layers.Dense(128, activation=\"relu\", input_shape=(X.shape[1],)),\n",
        "    tf.keras.layers.Dropout(0.2),\n",
        "    tf.keras.layers.Dense(64, activation=\"relu\"),\n",
        "    tf.keras.layers.Dense(len(np.unique(y)), activation=\"softmax\")\n",
        "])\n",
        "\n",
        "model.compile(optimizer=\"adam\",\n",
        "              loss=\"sparse_categorical_crossentropy\",\n",
        "              metrics=[\"accuracy\"])"
      ],
      "metadata": {
        "id": "bA142XhOXxBu"
      },
      "execution_count": null,
      "outputs": []
    },
    {
      "cell_type": "markdown",
      "source": [
        "8)Training"
      ],
      "metadata": {
        "id": "sjFkSOF3X7Ts"
      }
    },
    {
      "cell_type": "code",
      "source": [
        "history = model.fit(\n",
        "    X_train,\n",
        "    y_train,\n",
        "    validation_data=(X_test, y_test),\n",
        "    epochs=50,\n",
        "    batch_size=16,\n",
        "    verbose=1\n",
        ")"
      ],
      "metadata": {
        "id": "4Xai7LHqYBbp"
      },
      "execution_count": null,
      "outputs": []
    },
    {
      "cell_type": "markdown",
      "source": [
        "9)Plot training history"
      ],
      "metadata": {
        "id": "SnMn3yyRJEP1"
      }
    },
    {
      "cell_type": "code",
      "source": [
        "plt.plot(history.history['accuracy'], label='Train Acc')\n",
        "plt.plot(history.history['val_accuracy'], label='Val Acc')\n",
        "plt.xlabel('Epochs')\n",
        "plt.ylabel('Accuracy')\n",
        "plt.legend()\n",
        "plt.show()"
      ],
      "metadata": {
        "id": "mqzk4HLIJG4f"
      },
      "execution_count": null,
      "outputs": []
    },
    {
      "cell_type": "markdown",
      "source": [
        "10)Model Accuracy"
      ],
      "metadata": {
        "id": "uCnLqnbVbELf"
      }
    },
    {
      "cell_type": "code",
      "source": [
        "from sklearn.metrics import accuracy_score, classification_report, confusion_matrix\n",
        "import seaborn as sns\n",
        "import matplotlib.pyplot as plt\n",
        "\n",
        "y_pred = np.argmax(model.predict(X_test), axis=1)\n",
        "print(\"Accuracy:\", accuracy_score(y_test, y_pred))\n",
        "print(\"\\nClassification Report:\\n\", classification_report(y_test, y_pred, target_names=[\"Eustress\",\"Distress\",\"No Stress\"]))\n"
      ],
      "metadata": {
        "id": "H2DafdeabOe_"
      },
      "execution_count": null,
      "outputs": []
    },
    {
      "cell_type": "markdown",
      "source": [
        "11)Results Visualization"
      ],
      "metadata": {
        "id": "2ybiibaAI6lo"
      }
    },
    {
      "cell_type": "code",
      "source": [
        "cm = confusion_matrix(y_test, y_pred)\n",
        "sns.heatmap(cm, annot=True, fmt=\"d\", cmap=\"Blues\",\n",
        "            xticklabels=[\"Eustress\",\"Distress\",\"No Stress\"],\n",
        "            yticklabels=[\"Eustress\",\"Distress\",\"No Stress\"])\n",
        "plt.xlabel(\"Predicted\")\n",
        "plt.ylabel(\"Actual\")\n",
        "plt.show()"
      ],
      "metadata": {
        "id": "xAq_ev1TI-Cu"
      },
      "execution_count": null,
      "outputs": []
    },
    {
      "cell_type": "markdown",
      "source": [
        "12)Model Saving"
      ],
      "metadata": {
        "id": "2dcNDcj9YZRR"
      }
    },
    {
      "cell_type": "code",
      "source": [
        "model.save(\"stress_model.h5\")"
      ],
      "metadata": {
        "id": "TAtD1gEaYeAE"
      },
      "execution_count": null,
      "outputs": []
    },
    {
      "cell_type": "markdown",
      "source": [
        "13)Save as TFite(For Mobile or Web)(Optional)"
      ],
      "metadata": {
        "id": "f5FpjX9WYm5O"
      }
    },
    {
      "cell_type": "code",
      "source": [
        "converter = tf.lite.TFLiteConverter.from_keras_model(model)\n",
        "tflite_model = converter.convert()\n",
        "open(\"stress_model.tflite\", \"wb\").write(tflite_model)"
      ],
      "metadata": {
        "id": "XE_uHp3oY1X3"
      },
      "execution_count": null,
      "outputs": []
    }
  ],
  "metadata": {
    "colab": {
      "provenance": []
    },
    "kernelspec": {
      "display_name": "Python 3",
      "name": "python3"
    }
  },
  "nbformat": 4,
  "nbformat_minor": 0
}